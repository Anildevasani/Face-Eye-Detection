{
  "nbformat": 4,
  "nbformat_minor": 0,
  "metadata": {
    "colab": {
      "provenance": []
    },
    "kernelspec": {
      "name": "python3",
      "display_name": "Python 3"
    },
    "language_info": {
      "name": "python"
    }
  },
  "cells": [
    {
      "cell_type": "code",
      "execution_count": 53,
      "metadata": {
        "id": "snMyGhvaty9M"
      },
      "outputs": [],
      "source": [
        "import cv2"
      ]
    },
    {
      "cell_type": "code",
      "source": [
        "face_classifier=cv2.CascadeClassifier(\"haarcascade_frontalface_default (1).xml\")\n",
        "eye_classifier=cv2.CascadeClassifier(\"haarcascade_eye.xml\")"
      ],
      "metadata": {
        "id": "msy9QGX_t9hy"
      },
      "execution_count": 54,
      "outputs": []
    },
    {
      "cell_type": "code",
      "source": [
        "img=cv2.imread(\"sure.jpeg\")\n",
        "gray=cv2.cvtColor(img,cv2.COLOR_BGR2GRAY)"
      ],
      "metadata": {
        "id": "JT16B7Wjt-aE"
      },
      "execution_count": 55,
      "outputs": []
    },
    {
      "cell_type": "code",
      "source": [
        "faces=face_classifier.detectMultiScale(img,1.3,5)"
      ],
      "metadata": {
        "id": "hrXQSfxnuc4A"
      },
      "execution_count": 56,
      "outputs": []
    },
    {
      "cell_type": "code",
      "source": [
        "for (x,y,w,h) in faces:\n",
        "  cv2.rectangle(img,(x,y),(x+w,y+h),(127,0,255),2)\n"
      ],
      "metadata": {
        "id": "wW_g4PyWujrv"
      },
      "execution_count": 57,
      "outputs": []
    },
    {
      "cell_type": "code",
      "source": [
        "cv2.imwrite(\"face_detected1.jpg\",img)\n",
        "print(\"photo successfully exported!!\")"
      ],
      "metadata": {
        "colab": {
          "base_uri": "https://localhost:8080/"
        },
        "id": "5F4PL6pju--M",
        "outputId": "fe322fc1-6b29-4cff-80e6-b2e1468bb55b"
      },
      "execution_count": 58,
      "outputs": [
        {
          "output_type": "stream",
          "name": "stdout",
          "text": [
            "photo successfully exported!!\n"
          ]
        }
      ]
    },
    {
      "cell_type": "code",
      "source": [
        "roi_gray=gray[y:y+h,x:x+w]\n",
        "roi_color=img[y:y+h,x:x+w]\n",
        "eyes=eye_classifier.detectMultiScale(roi_gray)\n",
        "for (ex,ey,ew,eh) in eyes:\n",
        "  cv2.rectangle(roi_color,(ex,ey),(ex+ew,ey+eh),(255,0,0),2)\n"
      ],
      "metadata": {
        "id": "xpjnhtGVvADH"
      },
      "execution_count": 59,
      "outputs": []
    },
    {
      "cell_type": "code",
      "source": [
        "cv2.imwrite(\"face_detected2.jpg\",img)\n",
        "print(\"photo successfully exported!!\")"
      ],
      "metadata": {
        "colab": {
          "base_uri": "https://localhost:8080/"
        },
        "id": "4CASncVfvnNY",
        "outputId": "b74cd67e-e3c7-47e6-bccb-f5bcab40b33c"
      },
      "execution_count": 60,
      "outputs": [
        {
          "output_type": "stream",
          "name": "stdout",
          "text": [
            "photo successfully exported!!\n"
          ]
        }
      ]
    }
  ]
}